{
 "cells": [
  {
   "cell_type": "markdown",
   "metadata": {
    "slideshow": {
     "slide_type": "slide"
    }
   },
   "source": [
    "In this presentation, clustering and classification of breast cancer is investigated.\n",
    "The expressed algorithms are K-mean, meanshift, Hierarchical, DBSCAN, Naive Baysian. Also the valiation of K_means is investigated \n"
   ]
  },
  {
   "cell_type": "markdown",
   "metadata": {
    "slideshow": {
     "slide_type": "slide"
    }
   },
   "source": [
    "<center>\n",
    "<font color=red>\n",
    "<font size=100>\n",
    "Clustering"
   ]
  },
  {
   "cell_type": "markdown",
   "metadata": {
    "slideshow": {
     "slide_type": "slide"
    }
   },
   "source": [
    "داده مورد نظر در مورد سرطان سینه با 569 داده و 30 ویژگی است. \n",
    "این داده شامل دو لیبل خوش خیم و بدخیم است."
   ]
  },
  {
   "cell_type": "code",
   "execution_count": 1,
   "metadata": {
    "slideshow": {
     "slide_type": "subslide"
    }
   },
   "outputs": [],
   "source": [
    "import numpy as np\n",
    "import matplotlib.pyplot as plt\n",
    "import pandas as pd\n",
    "import sklearn\n",
    "from sklearn import datasets\n",
    "Data=datasets.load_breast_cancer()\n"
   ]
  },
  {
   "cell_type": "markdown",
   "metadata": {
    "slideshow": {
     "slide_type": "slide"
    }
   },
   "source": [
    "<center>\n",
    "<font color=red> \n",
    "<font size=18>    \n",
    "Description of cancer dataset\n"
   ]
  },
  {
   "cell_type": "code",
   "execution_count": null,
   "metadata": {
    "slideshow": {
     "slide_type": "subslide"
    }
   },
   "outputs": [],
   "source": [
    "Data.DESCR"
   ]
  },
  {
   "cell_type": "code",
   "execution_count": 3,
   "metadata": {
    "slideshow": {
     "slide_type": "slide"
    }
   },
   "outputs": [
    {
     "data": {
      "text/plain": [
       "(569, 30)"
      ]
     },
     "execution_count": 3,
     "metadata": {},
     "output_type": "execute_result"
    }
   ],
   "source": [
    "Data.data.shape\n"
   ]
  },
  {
   "cell_type": "markdown",
   "metadata": {
    "slideshow": {
     "slide_type": "slide"
    }
   },
   "source": [
    "# نام ویژگی ها:"
   ]
  },
  {
   "cell_type": "code",
   "execution_count": 4,
   "metadata": {
    "scrolled": false,
    "slideshow": {
     "slide_type": "subslide"
    }
   },
   "outputs": [
    {
     "data": {
      "text/plain": [
       "array(['mean radius', 'mean texture', 'mean perimeter', 'mean area',\n",
       "       'mean smoothness', 'mean compactness', 'mean concavity',\n",
       "       'mean concave points', 'mean symmetry', 'mean fractal dimension',\n",
       "       'radius error', 'texture error', 'perimeter error', 'area error',\n",
       "       'smoothness error', 'compactness error', 'concavity error',\n",
       "       'concave points error', 'symmetry error',\n",
       "       'fractal dimension error', 'worst radius', 'worst texture',\n",
       "       'worst perimeter', 'worst area', 'worst smoothness',\n",
       "       'worst compactness', 'worst concavity', 'worst concave points',\n",
       "       'worst symmetry', 'worst fractal dimension'], dtype='<U23')"
      ]
     },
     "execution_count": 4,
     "metadata": {},
     "output_type": "execute_result"
    }
   ],
   "source": [
    "Data.feature_names"
   ]
  },
  {
   "cell_type": "code",
   "execution_count": 5,
   "metadata": {
    "slideshow": {
     "slide_type": "slide"
    }
   },
   "outputs": [
    {
     "data": {
      "text/plain": [
       "array(['malignant', 'benign'], dtype='<U9')"
      ]
     },
     "execution_count": 5,
     "metadata": {},
     "output_type": "execute_result"
    }
   ],
   "source": [
    "Data.target_names\n"
   ]
  },
  {
   "cell_type": "markdown",
   "metadata": {
    "slideshow": {
     "slide_type": "subslide"
    }
   },
   "source": [
    "داده ها شامل دو لیبل خوش خیم و بدخیم هستند که با عنوان\n",
    "$target$ \n",
    "بیان شده است"
   ]
  },
  {
   "cell_type": "code",
   "execution_count": 6,
   "metadata": {
    "slideshow": {
     "slide_type": "subslide"
    }
   },
   "outputs": [],
   "source": [
    "\n",
    "Data_df=pd.DataFrame(Data.data,columns=Data.feature_names)"
   ]
  },
  {
   "cell_type": "code",
   "execution_count": 7,
   "metadata": {
    "slideshow": {
     "slide_type": "subslide"
    }
   },
   "outputs": [],
   "source": [
    "Data_df['target']=Data.target\n"
   ]
  },
  {
   "cell_type": "code",
   "execution_count": null,
   "metadata": {
    "slideshow": {
     "slide_type": "slide"
    }
   },
   "outputs": [],
   "source": [
    "Data_df"
   ]
  },
  {
   "cell_type": "markdown",
   "metadata": {
    "slideshow": {
     "slide_type": "subslide"
    }
   },
   "source": [
    "چون تعداد داده ها زیاد است برای بررسی وابستگی ویژگی ها روی 100 داده و 30 ویژگی بررسی شده است"
   ]
  },
  {
   "cell_type": "code",
   "execution_count": 9,
   "metadata": {
    "scrolled": true,
    "slideshow": {
     "slide_type": "subslide"
    }
   },
   "outputs": [],
   "source": [
    "Data_df=Data_df.iloc[0:100,[0,1,2,3,20,28,30]]\n",
    "Data_df"
   ]
  },
  {
   "cell_type": "code",
   "execution_count": null,
   "metadata": {
    "slideshow": {
     "slide_type": "slide"
    }
   },
   "outputs": [],
   "source": [
    "pd.plotting.scatter_matrix(Data_df,c=Data_df.target,s=150,figsize=[8,8])\n",
    "plt.show()"
   ]
  },
  {
   "cell_type": "markdown",
   "metadata": {
    "slideshow": {
     "slide_type": "subslide"
    }
   },
   "source": [
    "It can be easily seen that attributes such as mean area and mean perimeter are dependent and their corrolation is high. "
   ]
  },
  {
   "cell_type": "code",
   "execution_count": null,
   "metadata": {
    "slideshow": {
     "slide_type": "slide"
    }
   },
   "outputs": [],
   "source": [
    "\n",
    "Y=Data.target\n",
    "for i in range(1,29):\n",
    "    for j in range(1,29):\n",
    "        X=Data.data[:,[i,j]]\n",
    "        plt.scatter(X[:,0],X[:,1],c=Y)\n",
    "        plt.xlabel(Data.feature_names[i])\n",
    "        plt.ylabel(Data.feature_names[j])\n",
    "        plt.show()\n",
    "      "
   ]
  },
  {
   "cell_type": "markdown",
   "metadata": {
    "slideshow": {
     "slide_type": "slide"
    }
   },
   "source": [
    "<center>\n",
    "<font color=red>\n",
    "<font size=18>\n",
    "KMeans Clustering"
   ]
  },
  {
   "cell_type": "code",
   "execution_count": 12,
   "metadata": {
    "slideshow": {
     "slide_type": "slide"
    }
   },
   "outputs": [],
   "source": [
    "from sklearn.cluster import KMeans"
   ]
  },
  {
   "cell_type": "code",
   "execution_count": null,
   "metadata": {
    "slideshow": {
     "slide_type": "slide"
    }
   },
   "outputs": [],
   "source": [
    "Kmn=KMeans(n_clusters=3)\n",
    "Kmn.fit(Data.data)\n",
    "lables=Kmn.predict(Data.data)\n",
    "centroids=Kmn.cluster_centers_\n",
    "lables"
   ]
  },
  {
   "cell_type": "code",
   "execution_count": null,
   "metadata": {
    "slideshow": {
     "slide_type": "slide"
    }
   },
   "outputs": [],
   "source": [
    "plt.scatter(Data.data[:,0],Data.data[:,1],c=lables)\n",
    "plt.xlabel(Data.feature_names[0])\n",
    "plt.ylabel(Data.feature_names[1])\n",
    "plt.scatter(centroids[:,0],centroids[:,1],marker='x',s=150)\n",
    "plt.show()"
   ]
  },
  {
   "cell_type": "markdown",
   "metadata": {
    "slideshow": {
     "slide_type": "slide"
    }
   },
   "source": [
    "در الگوریتم کا مین روشی برای یافتن تعداد کلاستر ها وجود دارد به نام اینرسی\n",
    "\n",
    "اینرسی به معنای محاسبه فاصله هر داده تا مرکز کلاستری است که شامل ان داده است. به وضوح هر چه این فاصله کمتر باشد بهتر است.\n",
    "به عنوان مثال در ادامه اینرسی الگوریتم با تعداد مشخص کلاستر بررسی شده است.\n",
    "\n"
   ]
  },
  {
   "cell_type": "code",
   "execution_count": null,
   "metadata": {
    "slideshow": {
     "slide_type": "subslide"
    }
   },
   "outputs": [],
   "source": [
    "Kmn.inertia_\n",
    "inertia_list=[]\n",
    "################################################################################\n",
    "for k in np.arange(1,6):\n",
    "    Kmn=KMeans(n_clusters=k)\n",
    "    Kmn.fit(Data.data)\n",
    "    inertia_list.append(Kmn.inertia_)\n",
    "###############################################################################\n",
    "inertia_list"
   ]
  },
  {
   "cell_type": "markdown",
   "metadata": {
    "slideshow": {
     "slide_type": "subslide"
    }
   },
   "source": [
    "با توجه به شکل زیر بهترین تعداد کلاستر برابر با 2 است.چون زمانی که تعداد کلاستر ها از یک به 2 تغییر کرده اینرسی خیلی کاهش ئیدا کرده است. شیب نمودار در این قسمت بسیار زیاد است و بعد از ان تغییرات شیب خیلی کم است."
   ]
  },
  {
   "cell_type": "code",
   "execution_count": null,
   "metadata": {
    "slideshow": {
     "slide_type": "subslide"
    }
   },
   "outputs": [],
   "source": [
    "plt.plot(np.arange(1,6),inertia_list,'ro-')\n",
    "plt.xlabel('number of clusters')\n",
    "plt.ylabel('inertia')\n",
    "plt.show()"
   ]
  },
  {
   "cell_type": "code",
   "execution_count": null,
   "metadata": {
    "slideshow": {
     "slide_type": "slide"
    }
   },
   "outputs": [],
   "source": [
    "Kmn=KMeans(n_clusters=2)\n",
    "Kmn.fit(Data.data)\n",
    "lables=Kmn.predict(Data.data)\n",
    "centroids=Kmn.cluster_centers_\n",
    "lables"
   ]
  },
  {
   "cell_type": "code",
   "execution_count": null,
   "metadata": {
    "slideshow": {
     "slide_type": "slide"
    }
   },
   "outputs": [],
   "source": [
    "plt.scatter(Data.data[:,0],Data.data[:,1],c=lables)\n",
    "plt.xlabel(Data.feature_names[0])\n",
    "plt.ylabel(Data.feature_names[1])\n",
    "plt.scatter(centroids[:,0],centroids[:,1],marker='x',s=150)\n",
    "plt.show()"
   ]
  },
  {
   "cell_type": "markdown",
   "metadata": {
    "slideshow": {
     "slide_type": "slide"
    }
   },
   "source": [
    " <center>\n",
    " <font color=red>\n",
    " <font size=18>\n",
    "Hierarchical clustering"
   ]
  },
  {
   "cell_type": "code",
   "execution_count": null,
   "metadata": {
    "slideshow": {
     "slide_type": "slide"
    }
   },
   "outputs": [],
   "source": [
    "from scipy.cluster.hierarchy import linkage,dendrogram,fcluster\n",
    "import matplotlib.pyplot as plt\n",
    "heir=linkage(Data.data,method='single')\n",
    "plt.figure(figsize=(8,8))\n",
    "dendrogram(heir)\n",
    "plt.show()\n",
    "\n",
    "lables=fcluster(heir,1000,criterion='distance')\n",
    "\n",
    "plt.scatter(Data.data[:,0],Data.data[:,1],c=lables)\n",
    "plt.show()\n"
   ]
  },
  {
   "cell_type": "code",
   "execution_count": null,
   "metadata": {
    "slideshow": {
     "slide_type": "slide"
    }
   },
   "outputs": [],
   "source": [
    "\n",
    "heir=linkage(Data.data,method='complete')\n",
    "plt.figure(figsize=(8,8))\n",
    "dendrogram(heir)\n",
    "plt.show()\n",
    "\n",
    "lables=fcluster(heir,3500,criterion='distance')\n",
    "\n",
    "plt.scatter(Data.data[:,0],Data.data[:,1],c=lables)\n",
    "plt.show()"
   ]
  },
  {
   "cell_type": "code",
   "execution_count": null,
   "metadata": {
    "slideshow": {
     "slide_type": "slide"
    }
   },
   "outputs": [],
   "source": [
    "heir=linkage(Data.data,method='ward')\n",
    "plt.figure(figsize=(8,8))\n",
    "dendrogram(heir)\n",
    "plt.show()\n",
    "\n",
    "lables=fcluster(heir,10000,criterion='distance')\n",
    "plt.scatter(Data.data[:,0],Data.data[:,1],c=lables)\n",
    "plt.show()\n"
   ]
  },
  {
   "cell_type": "code",
   "execution_count": null,
   "metadata": {
    "slideshow": {
     "slide_type": "slide"
    }
   },
   "outputs": [],
   "source": [
    "heir=linkage(Data.data,method='average')\n",
    "plt.figure(figsize=(8,8))\n",
    "dendrogram(heir)\n",
    "plt.show()\n",
    "\n",
    "lables=fcluster(heir,2000,criterion='distance')\n",
    "\n",
    "plt.scatter(Data.data[:,0],Data.data[:,1],c=lables)\n",
    "plt.show()"
   ]
  },
  {
   "cell_type": "markdown",
   "metadata": {
    "slideshow": {
     "slide_type": "slide"
    }
   },
   "source": [
    " <center>\n",
    " <font color=red>\n",
    " <font size=30>\n",
    "Meanshift Clustering"
   ]
  },
  {
   "cell_type": "markdown",
   "metadata": {
    "slideshow": {
     "slide_type": "slide"
    }
   },
   "source": [
    "الگوریتم مین شیفت که با الگوریتم که مین متفاوت است و مهمترین تفاوت ان اسن است که تعداد کلاستر ها را نیاز نیست به عنوان ورودی در نظر بگیریم،\n",
    "به این صورت عمل می کند که ابتدا هر نقطه را به عنوان مرکز در نظر میگیرد. سپس از یک نقطه شروع می کند و یک همسایگی اطراف ان در نظر میگیرد. \n",
    "حال میانگین تمام نقاطی که در ان همسایگی قرار دارند را حساب میکند و میانین جدید را به عنوان مرکز در نظر میگیرد و تمام ان نقاط را درکلاستر قرار میدهد.\n",
    "اکنون همسایگی اطراف نقطه میانگین را در نظر میگیرد.  \n",
    "حال دوباره میانگین تمام نقاطی که در این همسایگی قرار گرفته اند را محاسبه میکند.\n",
    "همین روند را نقطه به نقطه پیش میبرد.\n",
    "\n",
    "\n",
    "مثالی که در مورد این الگوریتم بیان می شود به این صورت که فرض کنید گروهی از افراد در خیابانی مه گرفته  قرار دارند\n",
    "و هر کس  یک شعاع دیدی دارد. پس هر کس سعی میکند به افاردی که میبیند نزدیک شود. پس رفته رفته افراد به هم نزدیک میشوند و جکعیت هایی به نام کلاستر را تشکیل میدهند."
   ]
  },
  {
   "cell_type": "code",
   "execution_count": null,
   "metadata": {
    "slideshow": {
     "slide_type": "slide"
    }
   },
   "outputs": [],
   "source": [
    "from sklearn.cluster import MeanShift\n",
    "\n",
    "ms=MeanShift(bandwidth=1)\n",
    "ms.fit(Data.data)\n",
    "labels=ms.labels_\n",
    "cluster_centers=ms.cluster_centers_\n",
    "\n",
    "\n",
    "plt.scatter(Data.data[:,0],Data.data[:,1],c=lables)\n",
    "plt.scatter(cluster_centers[:,0],cluster_centers[:,1],marker='x',s=150,linewidth=1)\n",
    "plt.show()"
   ]
  },
  {
   "cell_type": "markdown",
   "metadata": {
    "slideshow": {
     "slide_type": "slide"
    }
   },
   "source": [
    " <center>\n",
    " <font color=red>\n",
    " <font size=30>\n",
    "DBSCAN clustering"
   ]
  },
  {
   "cell_type": "code",
   "execution_count": null,
   "metadata": {
    "slideshow": {
     "slide_type": "slide"
    }
   },
   "outputs": [],
   "source": [
    "from sklearn.cluster import DBSCAN\n",
    "dbscan=DBSCAN(eps=0.1,min_samples=5)\n",
    "dbscan.fit(Data.data)\n",
    "lables=dbscan.labels_\n",
    "lables"
   ]
  },
  {
   "cell_type": "markdown",
   "metadata": {
    "slideshow": {
     "slide_type": "subslide"
    }
   },
   "source": [
    "از آنجایی که شعاع همسایگی و تعداد نقاط در همسیاگی کم است بنابر الگوریتم، تعداد نقاط پرت بسیار است. این نقاط با -1 نشان داده شده اند.\n",
    "در نمودار تمام نقاط پرت را با رنگ بنفش نمایش میدهد و این به معنای یک کلاستر نیست"
   ]
  },
  {
   "cell_type": "markdown",
   "metadata": {
    "slideshow": {
     "slide_type": "slide"
    }
   },
   "source": [
    "همانطور که در ادامه میبینیم با زیاد کردن شعاع همسایگی تعداد نقاط پرت کمتر شده است.\n"
   ]
  },
  {
   "cell_type": "code",
   "execution_count": null,
   "metadata": {
    "slideshow": {
     "slide_type": "subslide"
    }
   },
   "outputs": [],
   "source": [
    "from sklearn.cluster import DBSCAN\n",
    "dbscan=DBSCAN(eps=23,min_samples=5)\n",
    "dbscan.fit(Data.data)\n",
    "lables=dbscan.labels_\n",
    "lables"
   ]
  },
  {
   "cell_type": "code",
   "execution_count": null,
   "metadata": {
    "slideshow": {
     "slide_type": "subslide"
    }
   },
   "outputs": [],
   "source": [
    "plt.scatter(Data.data[:,0],Data.data[:,1],c=lables)\n",
    "plt.show()"
   ]
  },
  {
   "cell_type": "markdown",
   "metadata": {
    "slideshow": {
     "slide_type": "slide"
    }
   },
   "source": [
    "در شکل بعد میبینیم که هر چه شعاع همسایگی بیشتر میشود تعداد نقاط پرت کمتر میشود و کلاستر های بزرگ با هم یکی میشوند و تشکیل یک کلاستر میدهند "
   ]
  },
  {
   "cell_type": "code",
   "execution_count": null,
   "metadata": {
    "slideshow": {
     "slide_type": "subslide"
    }
   },
   "outputs": [],
   "source": [
    "\n",
    "dbscan=DBSCAN(eps=100,min_samples=5)\n",
    "dbscan.fit(Data.data)\n",
    "lables=dbscan.labels_\n",
    "lables"
   ]
  },
  {
   "cell_type": "code",
   "execution_count": null,
   "metadata": {
    "slideshow": {
     "slide_type": "subslide"
    }
   },
   "outputs": [],
   "source": [
    "plt.scatter(Data.data[:,0],Data.data[:,1],c=lables)\n",
    "plt.show()"
   ]
  },
  {
   "cell_type": "markdown",
   "metadata": {
    "slideshow": {
     "slide_type": "slide"
    }
   },
   "source": [
    "اکنون با کم کردن تعداد نقاط در هر همسایگمشاهده میشود که تعداد کلاستر ها زیاد شده"
   ]
  },
  {
   "cell_type": "code",
   "execution_count": null,
   "metadata": {
    "slideshow": {
     "slide_type": "subslide"
    }
   },
   "outputs": [],
   "source": [
    "\n",
    "dbscan=DBSCAN(eps=100,min_samples=1)\n",
    "dbscan.fit(Data.data)\n",
    "lables=dbscan.labels_\n",
    "lables"
   ]
  },
  {
   "cell_type": "code",
   "execution_count": null,
   "metadata": {
    "slideshow": {
     "slide_type": "subslide"
    }
   },
   "outputs": [],
   "source": [
    "plt.scatter(Data.data[:,0],Data.data[:,1],c=lables)\n",
    "plt.show()"
   ]
  },
  {
   "cell_type": "markdown",
   "metadata": {
    "slideshow": {
     "slide_type": "slide"
    }
   },
   "source": [
    " <center>\n",
    " <font color=red>\n",
    " <font size=30>\n",
    "Validation"
   ]
  },
  {
   "cell_type": "code",
   "execution_count": 33,
   "metadata": {
    "slideshow": {
     "slide_type": "slide"
    }
   },
   "outputs": [],
   "source": [
    "from sklearn.linear_model import LinearRegression\n",
    "from sklearn.model_selection import train_test_split\n",
    "x=Data.data\n",
    "y=Data.target\n",
    "x_train,x_test,y_train,y_test=train_test_split(x,y,test_size=0.2, random_state=42)\n",
    "Kmn.fit(x_train,y_train)\n",
    "y_pred=Kmn.predict(x_test)"
   ]
  },
  {
   "cell_type": "markdown",
   "metadata": {
    "slideshow": {
     "slide_type": "subslide"
    }
   },
   "source": [
    "$30$\n",
    "درصد داده ها به عنوان داده تست در نظر گرفته شده است. "
   ]
  },
  {
   "cell_type": "code",
   "execution_count": null,
   "metadata": {
    "slideshow": {
     "slide_type": "slide"
    }
   },
   "outputs": [],
   "source": [
    "from sklearn.metrics import confusion_matrix, classification_report\n",
    "\n",
    "print(confusion_matrix(y_test,y_pred,[0,1])) \n",
    "print(classification_report(y_test, y_pred))"
   ]
  },
  {
   "cell_type": "markdown",
   "metadata": {
    "slideshow": {
     "slide_type": "subslide"
    }
   },
   "source": [
    "الگوریتم کا مین از $43$ نمونه خوشخیم\n",
    " $39$ داده \n",
    " و از $71$ نمونه بد خیم همه را به درستی تشخیص داده است\n",
    " .\n"
   ]
  },
  {
   "cell_type": "markdown",
   "metadata": {
    "slideshow": {
     "slide_type": "slide"
    }
   },
   "source": [
    " <center>\n",
    " <font color=red>\n",
    " <font size=30>\n",
    "Naive Baysian"
   ]
  },
  {
   "cell_type": "code",
   "execution_count": null,
   "metadata": {
    "slideshow": {
     "slide_type": "slide"
    }
   },
   "outputs": [],
   "source": [
    "from sklearn.naive_bayes import GaussianNB\n",
    "x=Data.data\n",
    "y=Data.target\n",
    "x_train,x_test,y_train,y_test=train_test_split(x,y,test_size=0.2, random_state=42)\n",
    "gnb=GaussianNB()\n",
    "y_pred=gnb.fit(x_train,y_train).predict(x_test)\n",
    "y_pred\n",
    "gnb.score(x_test,y_test)"
   ]
  },
  {
   "cell_type": "markdown",
   "metadata": {
    "slideshow": {
     "slide_type": "subslide"
    }
   },
   "source": [
    "با دقت بالایی داده های تست را رده بدی کرده است"
   ]
  },
  {
   "cell_type": "code",
   "execution_count": null,
   "metadata": {},
   "outputs": [],
   "source": []
  }
 ],
 "metadata": {
  "celltoolbar": "Slideshow",
  "kernelspec": {
   "display_name": "Python 3",
   "language": "python",
   "name": "python3"
  },
  "language_info": {
   "codemirror_mode": {
    "name": "ipython",
    "version": 3
   },
   "file_extension": ".py",
   "mimetype": "text/x-python",
   "name": "python",
   "nbconvert_exporter": "python",
   "pygments_lexer": "ipython3",
   "version": "3.6.5"
  }
 },
 "nbformat": 4,
 "nbformat_minor": 2
}
